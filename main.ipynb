{
 "cells": [
  {
   "cell_type": "markdown",
   "metadata": {},
   "source": [
    "# Spam Filter"
   ]
  },
  {
   "cell_type": "markdown",
   "metadata": {},
   "source": [
    "## Treating data"
   ]
  },
  {
   "cell_type": "code",
   "execution_count": 60,
   "metadata": {},
   "outputs": [],
   "source": [
    "import pandas as pd"
   ]
  },
  {
   "cell_type": "code",
   "execution_count": 61,
   "metadata": {},
   "outputs": [],
   "source": [
    "data_path = './data/spam.csv'\n",
    "\n",
    "data = pd.read_csv(data_path, encoding='latin-1')\n",
    "\n",
    "#adding unnamed columns to v2\n",
    "data['v2'] = data['v2'] + data['Unnamed: 2'].fillna('') + data['Unnamed: 3'].fillna('') + data['Unnamed: 4'].fillna('')\n",
    "\n",
    "#dropping unnamed columns\n",
    "data = data.drop(['Unnamed: 2', 'Unnamed: 3', 'Unnamed: 4'], axis=1)\n",
    "\n",
    "#descaptaizing v2\n",
    "data['v2'] = data['v2'].str.lower()\n",
    "\n",
    "#renaming columns\n",
    "data.columns = ['label', 'text']\n",
    "\n",
    "#transforming label to binary\n",
    "data['label'] = data['label'].map({'ham': 0, 'spam': 1})\n",
    "\n",
    "test_data = data.sample(frac=0.2).reset_index(drop=True)\n",
    "train_data = data.drop(test_data.index).reset_index(drop=True)\n",
    "\n",
    "#shuffling test_data\n",
    "test_data = test_data.sample(frac=1).reset_index(drop=True)\n",
    "\n",
    "#doubling the spam data\n",
    "spam = train_data[train_data['label'] == 1]\n",
    "\n",
    "#shuffling train_data\n",
    "train_data = train_data.sample(frac=1).reset_index(drop=True)\n",
    "\n",
    "#removing some ham train_data\n",
    "ham = train_data[train_data['label'] == 0]\n",
    "train_data = ham.sample(frac=0.5).reset_index(drop=True)\n",
    "train_data = pd.concat([train_data, spam])\n",
    "\n",
    "#shuffling train_data again\n",
    "train_data = train_data.sample(frac=1).reset_index(drop=True)\n",
    "\n",
    "#saving data, train and test\n",
    "data.to_csv('./data/spam_clean.csv', index=False)\n",
    "train_data.to_csv('./data/spam_train.csv', index=False)\n",
    "test_data.to_csv('./data/spam_test.csv', index=False)\n",
    "\n",
    "# train_data['label'].value_counts()\n",
    "# test_data['label'].value_counts()"
   ]
  },
  {
   "cell_type": "markdown",
   "metadata": {},
   "source": [
    "## Generating training and testing data"
   ]
  },
  {
   "cell_type": "code",
   "execution_count": 62,
   "metadata": {},
   "outputs": [],
   "source": [
    "from sklearn.feature_extraction.text import CountVectorizer\n",
    "\n",
    "cv = CountVectorizer(stop_words='english')\n",
    "X_train = cv.fit_transform(train_data['text'])\n",
    "X_train = pd.DataFrame(X_train.toarray(), columns=cv.vocabulary_.keys())\n",
    "y_train = train_data['label']\n",
    "\n",
    "X_test = cv.transform(test_data['text'])\n",
    "X_test = pd.DataFrame(X_test.toarray(), columns=cv.vocabulary_.keys())\n",
    "y_test = test_data['label']"
   ]
  },
  {
   "cell_type": "markdown",
   "metadata": {},
   "source": [
    "## Naive Bayes"
   ]
  },
  {
   "cell_type": "code",
   "execution_count": 63,
   "metadata": {},
   "outputs": [
    {
     "name": "stdout",
     "output_type": "stream",
     "text": [
      "              precision    recall  f1-score   support\n",
      "\n",
      "           0   0.996881  0.990702  0.993782       968\n",
      "           1   0.940789  0.979452  0.959732       146\n",
      "\n",
      "    accuracy                       0.989228      1114\n",
      "   macro avg   0.968835  0.985077  0.976757      1114\n",
      "weighted avg   0.989530  0.989228  0.989320      1114\n",
      "\n"
     ]
    },
    {
     "data": {
      "image/png": "[encoded data removed]",
      "text/plain": [
       "<Figure size 480x480 with 2 Axes>"
      ]
     },
     "metadata": {},
     "output_type": "display_data"
    }
   ],
   "source": [
    "from sklearn.naive_bayes import MultinomialNB\n",
    "from sklearn.metrics import classification_report\n",
    "from sklearn.metrics import confusion_matrix\n",
    "from matplotlib import pyplot as plt\n",
    "\n",
    "model = MultinomialNB()\n",
    "model.fit(X_train, y_train)\n",
    "y_pred = model.predict(X_test)\n",
    "\n",
    "#Classification Report with more decimal places\n",
    "print(classification_report(y_test, y_pred, digits=6))\n",
    "\n",
    "#Confusion Matrix\n",
    "conf_matrix = confusion_matrix(y_test, y_pred)\n",
    "plt.matshow(conf_matrix, cmap='Blues')\n",
    "plt.colorbar()\n",
    "plt.ylabel('True label')\n",
    "plt.xlabel('Predicted label')\n",
    "plt.show()\n"
   ]
  },
  {
   "cell_type": "markdown",
   "metadata": {},
   "source": [
    "## Random Forest"
   ]
  },
  {
   "cell_type": "code",
   "execution_count": 64,
   "metadata": {},
   "outputs": [
    {
     "name": "stdout",
     "output_type": "stream",
     "text": [
      "              precision    recall  f1-score   support\n",
      "\n",
      "           0   0.996901  0.996901  0.996901       968\n",
      "           1   0.979452  0.979452  0.979452       146\n",
      "\n",
      "    accuracy                       0.994614      1114\n",
      "   macro avg   0.988176  0.988176  0.988176      1114\n",
      "weighted avg   0.994614  0.994614  0.994614      1114\n",
      "\n"
     ]
    },
    {
     "data": {
      "image/png": "[encoded data removed]",
      "text/plain": [
       "<Figure size 480x480 with 2 Axes>"
      ]
     },
     "metadata": {},
     "output_type": "display_data"
    }
   ],
   "source": [
    "from sklearn.ensemble import RandomForestClassifier\n",
    "\n",
    "model = RandomForestClassifier()\n",
    "model.fit(X_train, y_train)\n",
    "y_pred = model.predict(X_test)\n",
    "\n",
    "#Classification Report\n",
    "print(classification_report(y_test, y_pred, digits=6))\n",
    "\n",
    "#Confusion Matrix\n",
    "conf_matrix = confusion_matrix(y_test, y_pred)\n",
    "plt.matshow(conf_matrix, cmap='Greens')\n",
    "\n",
    "plt.colorbar()\n",
    "plt.ylabel('True label')\n",
    "plt.xlabel('Predicted label')\n",
    "plt.show()"
   ]
  },
  {
   "cell_type": "markdown",
   "metadata": {},
   "source": [
    "## K-nearest neighbors"
   ]
  },
  {
   "cell_type": "code",
   "execution_count": 65,
   "metadata": {},
   "outputs": [
    {
     "name": "stdout",
     "output_type": "stream",
     "text": [
      "              precision    recall  f1-score   support\n",
      "\n",
      "           0   0.928023  0.998967  0.962189       968\n",
      "           1   0.986111  0.486301  0.651376       146\n",
      "\n",
      "    accuracy                       0.931777      1114\n",
      "   macro avg   0.957067  0.742634  0.806783      1114\n",
      "weighted avg   0.935636  0.931777  0.921454      1114\n",
      "\n"
     ]
    },
    {
     "data": {
      "image/png": "[encoded data removed]",
      "text/plain": [
       "<Figure size 480x480 with 2 Axes>"
      ]
     },
     "metadata": {},
     "output_type": "display_data"
    }
   ],
   "source": [
    "from sklearn.neighbors import KNeighborsClassifier\n",
    "\n",
    "model = KNeighborsClassifier()\n",
    "model.fit(X_train, y_train)\n",
    "y_pred = model.predict(X_test)\n",
    "\n",
    "#Classification Report\n",
    "print(classification_report(y_test, y_pred, digits=6))\n",
    "\n",
    "#Confusion Matrix\n",
    "conf_matrix = confusion_matrix(y_test, y_pred)\n",
    "plt.matshow(conf_matrix, cmap='Purples')\n",
    "plt.colorbar()\n",
    "\n",
    "plt.ylabel('True label')\n",
    "plt.xlabel('Predicted label')\n",
    "\n",
    "plt.show()"
   ]
  },
  {
   "cell_type": "markdown",
   "metadata": {},
   "source": [
    "## Logistic Regression"
   ]
  },
  {
   "cell_type": "code",
   "execution_count": 66,
   "metadata": {},
   "outputs": [
    {
     "name": "stdout",
     "output_type": "stream",
     "text": [
      "              precision    recall  f1-score   support\n",
      "\n",
      "           0   0.996910  1.000000  0.998453       968\n",
      "           1   1.000000  0.979452  0.989619       146\n",
      "\n",
      "    accuracy                       0.997307      1114\n",
      "   macro avg   0.998455  0.989726  0.994036      1114\n",
      "weighted avg   0.997315  0.997307  0.997295      1114\n",
      "\n"
     ]
    },
    {
     "data": {
      "image/png": "[encoded data removed]",
      "text/plain": [
       "<Figure size 480x480 with 2 Axes>"
      ]
     },
     "metadata": {},
     "output_type": "display_data"
    }
   ],
   "source": [
    "from sklearn.linear_model import LogisticRegression\n",
    "\n",
    "model = LogisticRegression()\n",
    "model.fit(X_train, y_train)\n",
    "y_pred = model.predict(X_test)\n",
    "\n",
    "#Classification Report\n",
    "print(classification_report(y_test, y_pred, digits=6))\n",
    "\n",
    "#Confusion Matrix\n",
    "conf_matrix = confusion_matrix(y_test, y_pred)\n",
    "\n",
    "plt.matshow(conf_matrix, cmap='Oranges')\n",
    "plt.colorbar()\n",
    "\n",
    "plt.ylabel('True label')\n",
    "plt.xlabel('Predicted label')\n",
    "\n",
    "plt.show()"
   ]
  }
 ],
 "metadata": {
  "kernelspec": {
   "display_name": "spam-filter-TUwirsaD-py3.10",
   "language": "python",
   "name": "python3"
  },
  "language_info": {
   "codemirror_mode": {
    "name": "ipython",
    "version": 3
   },
   "file_extension": ".py",
   "mimetype": "text/x-python",
   "name": "python",
   "nbconvert_exporter": "python",
   "pygments_lexer": "ipython3",
   "version": "3.10.12"
  }
 },
 "nbformat": 4,
 "nbformat_minor": 2
}
